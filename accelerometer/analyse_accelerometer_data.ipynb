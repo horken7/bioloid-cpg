{
 "cells": [
  {
   "cell_type": "code",
   "execution_count": 1,
   "metadata": {
    "collapsed": false
   },
   "outputs": [],
   "source": [
    "import pandas as pd\n",
    "import matplotlib.pyplot as plt\n",
    "#from ipywidgets import widgets\n",
    "import numpy as np\n",
    "#%pylab osx"
   ]
  },
  {
   "cell_type": "code",
   "execution_count": 2,
   "metadata": {
    "collapsed": true
   },
   "outputs": [],
   "source": [
    "# normalise the feature values between a 0 1 range\n",
    "from sklearn import preprocessing\n",
    "def norm(features):\n",
    "    features_array = features.values #return a numpy array\n",
    "    min_max_scalar = preprocessing.MinMaxScaler()\n",
    "    normalise = min_max_scalar.fit_transform(features_array)\n",
    "    normalised_features = pd.DataFrame(normalise)\n",
    "\n",
    "    # rename index and columns\n",
    "    normalised_features.columns = features.columns\n",
    "    normalised_features.index = features.index\n",
    "\n",
    "    features = normalised_features.copy(deep=True)\n",
    "    return features"
   ]
  },
  {
   "cell_type": "code",
   "execution_count": 3,
   "metadata": {
    "collapsed": false,
    "scrolled": true
   },
   "outputs": [],
   "source": [
    "# load data, remove 'Type', calculate 'magnitude', normalise and display format\n",
    "right_knee = pd.read_csv('sensor_log/right_knee.txt', sep='\\t', index_col='Timestamp')\n",
    "left_knee = pd.read_csv('sensor_log/left_knee.txt', sep='\\t', index_col='Timestamp')\n",
    "right_hip = pd.read_csv('sensor_log/right_hip.txt', sep='\\t', index_col='Timestamp')\n",
    "left_hip = pd.read_csv('sensor_log/left_hip.txt', sep='\\t', index_col='Timestamp')\n",
    "right_arm = pd.read_csv('sensor_log/right_arm.txt', sep='\\t', index_col='Timestamp')\n",
    "left_arm = pd.read_csv('sensor_log/left_arm.txt', sep='\\t', index_col='Timestamp')\n",
    "right_foot = pd.read_csv('sensor_log/right_foot.txt', sep='\\t', index_col='Timestamp')\n",
    "left_foot = pd.read_csv('sensor_log/left_foot.txt', sep='\\t', index_col='Timestamp')\n",
    "raw_logs = [right_knee, left_knee, right_hip, left_hip, right_arm, left_arm, right_foot, left_foot]\n",
    "for l in raw_logs:\n",
    "    l.drop('Type', axis=1, inplace=True)\n",
    "    l['magnitude'] = np.sqrt( l['X']**2 + l['Y']**2 + l['Z']**2 )"
   ]
  },
  {
   "cell_type": "code",
   "execution_count": 4,
   "metadata": {
    "collapsed": false,
    "scrolled": true
   },
   "outputs": [],
   "source": [
    "# trim data right knee, normalise, reset index to unify, add identifier to name\n",
    "right_knee = right_knee[right_knee.index > 250739278]\n",
    "right_knee = right_knee[right_knee.index < 250850000]\n",
    "right_knee = norm(right_knee)\n",
    "right_knee = right_knee.reset_index(drop=True)\n",
    "right_knee.columns = ['right_knee_' + str(col) for col in right_knee.columns]"
   ]
  },
  {
   "cell_type": "code",
   "execution_count": 5,
   "metadata": {
    "collapsed": false,
    "scrolled": true
   },
   "outputs": [],
   "source": [
    "# trim data left_knee, normalise, reset index to unify, add identifier to name\n",
    "left_knee = left_knee[left_knee.index > 16630000]\n",
    "left_knee = left_knee[left_knee.index < 16756000]\n",
    "left_knee = norm(left_knee)\n",
    "left_knee = left_knee.reset_index(drop=True)\n",
    "left_knee.columns = ['left_knee_' + str(col) for col in left_knee.columns]"
   ]
  },
  {
   "cell_type": "code",
   "execution_count": 6,
   "metadata": {
    "collapsed": false,
    "scrolled": true
   },
   "outputs": [],
   "source": [
    "# trim data right_hip, normalise, reset index to unify, add identifier to name\n",
    "right_hip = right_hip[right_hip.index > 9116132]\n",
    "right_hip = right_hip[right_hip.index < 9230000]\n",
    "right_hip = norm(right_hip)\n",
    "right_hip = right_hip.reset_index(drop=True)\n",
    "right_hip.columns = ['right_hip_' + str(col) for col in right_hip.columns]"
   ]
  },
  {
   "cell_type": "code",
   "execution_count": 7,
   "metadata": {
    "collapsed": false,
    "scrolled": true
   },
   "outputs": [],
   "source": [
    "# trim data left_hip, normalise, reset index to unify, add identifier to name\n",
    "left_hip = left_hip[left_hip.index > 879227949]\n",
    "left_hip = left_hip[left_hip.index < 879337949]\n",
    "left_hip = norm(left_hip)\n",
    "left_hip = left_hip.reset_index(drop=True)\n",
    "left_hip.columns = ['left_hip_' + str(col) for col in left_hip.columns]"
   ]
  },
  {
   "cell_type": "code",
   "execution_count": 8,
   "metadata": {
    "collapsed": true
   },
   "outputs": [],
   "source": [
    "# trim data right_arm, normalise, reset index to unify, add identifier to name\n",
    "right_arm = right_arm[right_arm.index > 194779513]\n",
    "right_arm = right_arm[right_arm.index < 194909513]\n",
    "right_arm = norm(right_arm)\n",
    "right_arm = right_arm.reset_index(drop=True)\n",
    "right_arm.columns = ['right_arm_' + str(col) for col in right_arm.columns]"
   ]
  },
  {
   "cell_type": "code",
   "execution_count": 9,
   "metadata": {
    "collapsed": false,
    "scrolled": true
   },
   "outputs": [],
   "source": [
    "# trim data left arm, normalise, reset index to unify, add identifier to name\n",
    "left_arm = left_arm[left_arm.index > 1188100056]\n",
    "left_arm = left_arm[left_arm.index < 1188240056]\n",
    "left_arm = norm(left_arm)\n",
    "left_arm = left_arm.reset_index(drop=True)\n",
    "left_arm.columns = ['left_arm_' + str(col) for col in left_arm.columns]"
   ]
  },
  {
   "cell_type": "code",
   "execution_count": 10,
   "metadata": {
    "collapsed": true
   },
   "outputs": [],
   "source": [
    "# trim data right_foot, normalise, reset index to unify, add identifier to name\n",
    "right_foot = right_foot[right_foot.index > 140800245]\n",
    "right_foot = right_foot[right_foot.index < 140910245]\n",
    "right_foot = norm(right_foot)\n",
    "right_foot = right_foot.reset_index(drop=True)\n",
    "right_foot.columns = ['right_foot_' + str(col) for col in right_foot.columns]"
   ]
  },
  {
   "cell_type": "code",
   "execution_count": 11,
   "metadata": {
    "collapsed": true
   },
   "outputs": [],
   "source": [
    "# trim data right_foot, normalise, reset index to unify, add identifier to name\n",
    "left_foot = left_foot[left_foot.index > 244818069]\n",
    "left_foot = left_foot[left_foot.index < 244929597]\n",
    "left_foot = norm(left_foot)\n",
    "left_foot = left_foot.reset_index(drop=True)\n",
    "left_foot.columns = ['left_foot_' + str(col) for col in left_foot.columns]"
   ]
  },
  {
   "cell_type": "code",
   "execution_count": 12,
   "metadata": {
    "collapsed": false,
    "scrolled": true
   },
   "outputs": [],
   "source": [
    "# put all of them in a big df and remove nan\n",
    "apa = pd.concat([right_knee, left_knee, right_hip, left_hip, right_arm, left_arm, right_foot, left_foot], axis=1)\n",
    "apa = apa.dropna()"
   ]
  },
  {
   "cell_type": "code",
   "execution_count": 13,
   "metadata": {
    "collapsed": false
   },
   "outputs": [
    {
     "data": {
      "image/png": "[encoded data removed]",
      "text/plain": [
       "<matplotlib.figure.Figure at 0x1193799e8>"
      ]
     },
     "metadata": {},
     "output_type": "display_data"
    }
   ],
   "source": [
    "# plot all magnitudes, just because fun\n",
    "bepa = ['right_knee_magnitude', 'left_knee_magnitude', 'right_hip_magnitude', 'left_hip_magnitude', 'right_arm_magnitude', 'left_arm_magnitude', 'right_foot_magnitude', 'left_foot_magnitude']\n",
    "for b in bepa:\n",
    "    plt.plot(apa.index, apa[bepa])\n",
    "plt.show()"
   ]
  },
  {
   "cell_type": "code",
   "execution_count": 14,
   "metadata": {
    "collapsed": true
   },
   "outputs": [],
   "source": [
    "# pickle data for easier use in future\n",
    "apa.to_pickle('accelerometer_data.pkl')"
   ]
  },
  {
   "cell_type": "code",
   "execution_count": 15,
   "metadata": {
    "collapsed": false
   },
   "outputs": [],
   "source": [
    "# plot data\n",
    "#plt.figure()\n",
    "#plt.title('X, Y, Z acceleration')\n",
    "#plt.plot(a.index, a['X'])\n",
    "#plt.plot(a.index, a['Y'])\n",
    "#plt.plot(a.index, a['Z'])\n",
    "#plt.figure()\n",
    "#plt.title('magnitude acceleration')\n",
    "#plt.plot(a.index, a['magnitude'])\n",
    "#plt.show()"
   ]
  }
 ],
 "metadata": {
  "kernelspec": {
   "display_name": "Python 3",
   "language": "python",
   "name": "python3"
  },
  "language_info": {
   "codemirror_mode": {
    "name": "ipython",
    "version": 3
   },
   "file_extension": ".py",
   "mimetype": "text/x-python",
   "name": "python",
   "nbconvert_exporter": "python",
   "pygments_lexer": "ipython3",
   "version": "3.6.0"
  }
 },
 "nbformat": 4,
 "nbformat_minor": 2
}
