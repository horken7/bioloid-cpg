{
 "cells": [
  {
   "cell_type": "code",
   "execution_count": 1,
   "metadata": {
    "collapsed": false
   },
   "outputs": [
    {
     "name": "stdout",
     "output_type": "stream",
     "text": [
      "Populating the interactive namespace from numpy and matplotlib\n"
     ]
    }
   ],
   "source": [
    "import pandas as pd\n",
    "import matplotlib.pyplot as plt\n",
    "from ipywidgets import widgets\n",
    "import numpy as np\n",
    "%pylab osx"
   ]
  },
  {
   "cell_type": "code",
   "execution_count": 2,
   "metadata": {
    "collapsed": true
   },
   "outputs": [],
   "source": [
    "# normalise the feature values between a 0 1 range\n",
    "from sklearn import preprocessing\n",
    "def norm(features):\n",
    "    features_array = features.values #return a numpy array\n",
    "    min_max_scalar = preprocessing.MinMaxScaler()\n",
    "    normalise = min_max_scalar.fit_transform(features_array)\n",
    "    normalised_features = pd.DataFrame(normalise)\n",
    "\n",
    "    # rename index and columns\n",
    "    normalised_features.columns = features.columns\n",
    "    normalised_features.index = features.index\n",
    "\n",
    "    features = normalised_features.copy(deep=True)\n",
    "    return features"
   ]
  },
  {
   "cell_type": "code",
   "execution_count": 35,
   "metadata": {
    "collapsed": false,
    "scrolled": true
   },
   "outputs": [],
   "source": [
    "# load data, remove 'Type', calculate 'Magnitude', normalise and display format\n",
    "right_knee = pd.read_csv('sensor_log/right_knee.txt', sep='\\t', index_col='Timestamp')\n",
    "left_knee = pd.read_csv('sensor_log/left_knee.txt', sep='\\t', index_col='Timestamp')\n",
    "right_hip = pd.read_csv('sensor_log/right_hip.txt', sep='\\t', index_col='Timestamp')\n",
    "left_hip = pd.read_csv('sensor_log/left_hip.txt', sep='\\t', index_col='Timestamp')\n",
    "right_arm = pd.read_csv('sensor_log/right_arm.txt', sep='\\t', index_col='Timestamp')\n",
    "left_arm = pd.read_csv('sensor_log/left_arm.txt', sep='\\t', index_col='Timestamp')\n",
    "right_foot = pd.read_csv('sensor_log/right_foot.txt', sep='\\t', index_col='Timestamp')\n",
    "left_foot = pd.read_csv('sensor_log/left_foot.txt', sep='\\t', index_col='Timestamp')\n",
    "raw_logs = [right_knee, left_knee, right_hip, left_hip, right_arm, left_arm, right_foot, left_foot]\n",
    "logs = []\n",
    "for l in raw_logs:\n",
    "    l.drop('Type', axis=1, inplace=True)\n",
    "    l['Magnitude'] = np.sqrt( l['X']**2 + l['Y']**2 + l['Z']**2 )"
   ]
  },
  {
   "cell_type": "code",
   "execution_count": 38,
   "metadata": {
    "collapsed": false,
    "scrolled": true
   },
   "outputs": [],
   "source": [
    "# trim data left arm\n",
    "left_arm = left_arm[left_arm.index > 1188100500]\n",
    "left_arm = left_arm[left_arm.index < 1188117500]\n",
    "left_arm = norm(left_arm)"
   ]
  },
  {
   "cell_type": "code",
   "execution_count": 66,
   "metadata": {
    "collapsed": false,
    "scrolled": true
   },
   "outputs": [],
   "source": [
    "# trim data right knee\n",
    "right_knee = right_knee[right_knee.index > 250740000]\n",
    "right_knee = right_knee[right_knee.index < 250757000]\n",
    "right_knee = norm(right_knee)"
   ]
  },
  {
   "cell_type": "code",
   "execution_count": 77,
   "metadata": {
    "collapsed": false,
    "scrolled": true
   },
   "outputs": [],
   "source": [
    "# trim data left_knee\n",
    "left_knee = left_knee[left_knee.index > 16627900]\n",
    "left_knee = left_knee[left_knee.index < 16646000]\n",
    "left_knee = norm(left_knee)"
   ]
  },
  {
   "cell_type": "code",
   "execution_count": 102,
   "metadata": {
    "collapsed": false,
    "scrolled": true
   },
   "outputs": [],
   "source": [
    "# trim data right_hip\n",
    "right_hip = right_hip[right_hip.index > 9116450]\n",
    "right_hip = right_hip[right_hip.index < 9134300]\n",
    "right_hip = norm(right_hip)"
   ]
  },
  {
   "cell_type": "code",
   "execution_count": null,
   "metadata": {
    "collapsed": true
   },
   "outputs": [],
   "source": [
    "# trim data left arm\n",
    "a = right_hip[right_hip.index > 9116450]\n",
    "a = a[a.index < 9134300]\n",
    "a = norm(a)\n",
    "a"
   ]
  },
  {
   "cell_type": "code",
   "execution_count": 101,
   "metadata": {
    "collapsed": false
   },
   "outputs": [],
   "source": [
    "# plot data\n",
    "plt.figure()\n",
    "plt.title('X, Y, Z acceleration')\n",
    "plt.plot(a.index, a['X'])\n",
    "plt.plot(a.index, a['Y'])\n",
    "plt.plot(a.index, a['Z'])\n",
    "#plt.figure()\n",
    "#plt.title('magnitude acceleration')\n",
    "#plt.plot(a.index, a['Magnitude'])\n",
    "plt.show()"
   ]
  }
 ],
 "metadata": {
  "kernelspec": {
   "display_name": "Python 3",
   "language": "python",
   "name": "python3"
  },
  "language_info": {
   "codemirror_mode": {
    "name": "ipython",
    "version": 3
   },
   "file_extension": ".py",
   "mimetype": "text/x-python",
   "name": "python",
   "nbconvert_exporter": "python",
   "pygments_lexer": "ipython3",
   "version": "3.6.0"
  }
 },
 "nbformat": 4,
 "nbformat_minor": 2
}
